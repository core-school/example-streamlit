{
 "cells": [
  {
   "cell_type": "code",
   "execution_count": 1,
   "id": "155a37b5",
   "metadata": {},
   "outputs": [],
   "source": [
    "import pandas as pd\n",
    "import numpy as np\n",
    "import json\n",
    "from shapely.geometry import shape, Point\n",
    "from multiprocessing import  Pool\n",
    "import html\n",
    "import warnings\n",
    "warnings.filterwarnings('ignore')"
   ]
  },
  {
   "cell_type": "markdown",
   "id": "10672178",
   "metadata": {},
   "source": [
    "## Limpiar los datos\n",
    "\n",
    "En ese workshop vamos utilizar un dataset del [National UFO Reporting Center (NUFORC)](http://www.nuforc.org/index.html), una organización norte americana para registro e investigación de avistamientos de OVNIs.\n",
    "\n",
    "Los datos están en `../data/scrubbed.csv`, le vamos a limpiar un poco usando [`pandas`](https://pandas.pydata.org/) para poder crear nuestro dashboard de visualización usando [`streamlit`](https://streamlit.io/)."
   ]
  },
  {
   "cell_type": "markdown",
   "id": "a24bbe67",
   "metadata": {},
   "source": [
    "## Cargando e investigando datos"
   ]
  },
  {
   "cell_type": "code",
   "execution_count": 2,
   "id": "eddd20ec",
   "metadata": {},
   "outputs": [],
   "source": [
    "df = pd.read_csv(\"../data/scrubbed.csv\", low_memory=False)"
   ]
  },
  {
   "cell_type": "code",
   "execution_count": 3,
   "id": "6250f1d5",
   "metadata": {},
   "outputs": [
    {
     "data": {
      "text/html": [
       "<div>\n",
       "<style scoped>\n",
       "    .dataframe tbody tr th:only-of-type {\n",
       "        vertical-align: middle;\n",
       "    }\n",
       "\n",
       "    .dataframe tbody tr th {\n",
       "        vertical-align: top;\n",
       "    }\n",
       "\n",
       "    .dataframe thead th {\n",
       "        text-align: right;\n",
       "    }\n",
       "</style>\n",
       "<table border=\"1\" class=\"dataframe\">\n",
       "  <thead>\n",
       "    <tr style=\"text-align: right;\">\n",
       "      <th></th>\n",
       "      <th>datetime</th>\n",
       "      <th>city</th>\n",
       "      <th>state</th>\n",
       "      <th>country</th>\n",
       "      <th>shape</th>\n",
       "      <th>duration (seconds)</th>\n",
       "      <th>duration (hours/min)</th>\n",
       "      <th>comments</th>\n",
       "      <th>date posted</th>\n",
       "      <th>latitude</th>\n",
       "      <th>longitude</th>\n",
       "      <th>report_link</th>\n",
       "    </tr>\n",
       "  </thead>\n",
       "  <tbody>\n",
       "    <tr>\n",
       "      <th>0</th>\n",
       "      <td>10/10/1955 17:00</td>\n",
       "      <td>chester (uk/england)</td>\n",
       "      <td>NaN</td>\n",
       "      <td>gb</td>\n",
       "      <td>circle</td>\n",
       "      <td>20</td>\n",
       "      <td>20 seconds</td>\n",
       "      <td>Green/Orange circular disc over Chester, Engla...</td>\n",
       "      <td>1/21/2008</td>\n",
       "      <td>53.2</td>\n",
       "      <td>-2.916667</td>\n",
       "      <td>http://www.nuforc.org/webreports/060/S60217.html</td>\n",
       "    </tr>\n",
       "    <tr>\n",
       "      <th>1</th>\n",
       "      <td>10/10/1961 19:00</td>\n",
       "      <td>bristol</td>\n",
       "      <td>tn</td>\n",
       "      <td>us</td>\n",
       "      <td>sphere</td>\n",
       "      <td>300</td>\n",
       "      <td>5 minutes</td>\n",
       "      <td>My father is now 89 my brother 52 the girl wit...</td>\n",
       "      <td>4/27/2007</td>\n",
       "      <td>36.5950000</td>\n",
       "      <td>-82.188889</td>\n",
       "      <td>http://www.nuforc.org/webreports/055/S55782.html</td>\n",
       "    </tr>\n",
       "    <tr>\n",
       "      <th>2</th>\n",
       "      <td>10/10/1966 20:00</td>\n",
       "      <td>pell city</td>\n",
       "      <td>al</td>\n",
       "      <td>us</td>\n",
       "      <td>disk</td>\n",
       "      <td>180</td>\n",
       "      <td>3  minutes</td>\n",
       "      <td>Strobe Lighted disk shape object observed clos...</td>\n",
       "      <td>3/19/2009</td>\n",
       "      <td>33.5861111</td>\n",
       "      <td>-86.286111</td>\n",
       "      <td>http://www.nuforc.org/webreports/068/S68593.html</td>\n",
       "    </tr>\n",
       "    <tr>\n",
       "      <th>3</th>\n",
       "      <td>10/10/1968 19:00</td>\n",
       "      <td>brevard</td>\n",
       "      <td>nc</td>\n",
       "      <td>us</td>\n",
       "      <td>fireball</td>\n",
       "      <td>180</td>\n",
       "      <td>3 minutes</td>\n",
       "      <td>silent red/orange mass of energy floated by th...</td>\n",
       "      <td>6/12/2008</td>\n",
       "      <td>35.2333333</td>\n",
       "      <td>-82.734444</td>\n",
       "      <td>http://www.nuforc.org/webreports/062/S62666.html</td>\n",
       "    </tr>\n",
       "    <tr>\n",
       "      <th>4</th>\n",
       "      <td>10/10/1970 19:00</td>\n",
       "      <td>manchester</td>\n",
       "      <td>ky</td>\n",
       "      <td>us</td>\n",
       "      <td>unknown</td>\n",
       "      <td>180</td>\n",
       "      <td>3 minutes</td>\n",
       "      <td>Slow moving, silent craft accelerated at an un...</td>\n",
       "      <td>2/14/2008</td>\n",
       "      <td>37.1536111</td>\n",
       "      <td>-83.761944</td>\n",
       "      <td>http://www.nuforc.org/webreports/061/S61389.html</td>\n",
       "    </tr>\n",
       "  </tbody>\n",
       "</table>\n",
       "</div>"
      ],
      "text/plain": [
       "           datetime                  city state country     shape  \\\n",
       "0  10/10/1955 17:00  chester (uk/england)   NaN      gb    circle   \n",
       "1  10/10/1961 19:00               bristol    tn      us    sphere   \n",
       "2  10/10/1966 20:00             pell city    al      us      disk   \n",
       "3  10/10/1968 19:00               brevard    nc      us  fireball   \n",
       "4  10/10/1970 19:00            manchester    ky      us   unknown   \n",
       "\n",
       "  duration (seconds) duration (hours/min)  \\\n",
       "0                 20           20 seconds   \n",
       "1                300            5 minutes   \n",
       "2                180           3  minutes   \n",
       "3                180            3 minutes   \n",
       "4                180            3 minutes   \n",
       "\n",
       "                                            comments date posted    latitude  \\\n",
       "0  Green/Orange circular disc over Chester, Engla...   1/21/2008        53.2   \n",
       "1  My father is now 89 my brother 52 the girl wit...   4/27/2007  36.5950000   \n",
       "2  Strobe Lighted disk shape object observed clos...   3/19/2009  33.5861111   \n",
       "3  silent red/orange mass of energy floated by th...   6/12/2008  35.2333333   \n",
       "4  Slow moving, silent craft accelerated at an un...   2/14/2008  37.1536111   \n",
       "\n",
       "   longitude                                        report_link  \n",
       "0   -2.916667  http://www.nuforc.org/webreports/060/S60217.html  \n",
       "1  -82.188889  http://www.nuforc.org/webreports/055/S55782.html  \n",
       "2  -86.286111  http://www.nuforc.org/webreports/068/S68593.html  \n",
       "3  -82.734444  http://www.nuforc.org/webreports/062/S62666.html  \n",
       "4  -83.761944  http://www.nuforc.org/webreports/061/S61389.html  "
      ]
     },
     "execution_count": 3,
     "metadata": {},
     "output_type": "execute_result"
    }
   ],
   "source": [
    "df.head()"
   ]
  },
  {
   "cell_type": "code",
   "execution_count": 4,
   "id": "d4b6da08",
   "metadata": {},
   "outputs": [
    {
     "data": {
      "text/plain": [
       "(53827, 12)"
      ]
     },
     "execution_count": 4,
     "metadata": {},
     "output_type": "execute_result"
    }
   ],
   "source": [
    "df.shape"
   ]
  },
  {
   "cell_type": "code",
   "execution_count": 5,
   "id": "ad0056a3",
   "metadata": {},
   "outputs": [
    {
     "data": {
      "text/plain": [
       "Index(['datetime', 'city', 'state', 'country', 'shape', 'duration (seconds)',\n",
       "       'duration (hours/min)', 'comments', 'date posted', 'latitude',\n",
       "       'longitude ', 'report_link'],\n",
       "      dtype='object')"
      ]
     },
     "execution_count": 5,
     "metadata": {},
     "output_type": "execute_result"
    }
   ],
   "source": [
    "df.columns"
   ]
  },
  {
   "cell_type": "markdown",
   "id": "3037b6b1",
   "metadata": {},
   "source": [
    "Quitamos el espacio al final del nombre de la columna `longitude ` para evitar problemas."
   ]
  },
  {
   "cell_type": "code",
   "execution_count": 6,
   "id": "401f8c58",
   "metadata": {},
   "outputs": [],
   "source": [
    "df.rename(columns={\"longitude \":\"longitude\"}, inplace=True)"
   ]
  },
  {
   "cell_type": "code",
   "execution_count": 7,
   "id": "56d908ce",
   "metadata": {},
   "outputs": [
    {
     "data": {
      "text/plain": [
       "datetime                 object\n",
       "city                     object\n",
       "state                    object\n",
       "country                  object\n",
       "shape                    object\n",
       "duration (seconds)       object\n",
       "duration (hours/min)     object\n",
       "comments                 object\n",
       "date posted              object\n",
       "latitude                 object\n",
       "longitude               float64\n",
       "report_link              object\n",
       "dtype: object"
      ]
     },
     "execution_count": 7,
     "metadata": {},
     "output_type": "execute_result"
    }
   ],
   "source": [
    "df.dtypes"
   ]
  },
  {
   "cell_type": "markdown",
   "id": "131fe64f",
   "metadata": {},
   "source": [
    "Utilizamos `regex` para remover caracteres no numericos de la columna latitude y convertirla al tipo float. Hacemos lo mismo con los segundos."
   ]
  },
  {
   "cell_type": "code",
   "execution_count": 8,
   "id": "9a987778",
   "metadata": {},
   "outputs": [],
   "source": [
    "df.latitude = df.latitude.str.replace(r\"[^0-9\\.-]\",\"\")\n",
    "df.latitude = df.latitude.astype(float)\n",
    "df[\"duration (seconds)\"] = df[\"duration (seconds)\"].str.replace(r\"[^0-9\\.]\",\"\")\n",
    "df[\"duration (seconds)\"] = df[\"duration (seconds)\"].astype(float)"
   ]
  },
  {
   "cell_type": "code",
   "execution_count": 9,
   "id": "c480eb51",
   "metadata": {},
   "outputs": [
    {
     "data": {
      "text/plain": [
       "datetime                 object\n",
       "city                     object\n",
       "state                    object\n",
       "country                  object\n",
       "shape                    object\n",
       "duration (seconds)      float64\n",
       "duration (hours/min)     object\n",
       "comments                 object\n",
       "date posted              object\n",
       "latitude                float64\n",
       "longitude               float64\n",
       "report_link              object\n",
       "dtype: object"
      ]
     },
     "execution_count": 9,
     "metadata": {},
     "output_type": "execute_result"
    }
   ],
   "source": [
    "df.dtypes"
   ]
  },
  {
   "cell_type": "markdown",
   "id": "306cdae8",
   "metadata": {},
   "source": [
    "Empezamos a tratar los nulos, a empezar por los países."
   ]
  },
  {
   "cell_type": "code",
   "execution_count": 10,
   "id": "edb2433b",
   "metadata": {},
   "outputs": [
    {
     "data": {
      "text/plain": [
       "datetime                   0\n",
       "city                       0\n",
       "state                   3403\n",
       "country                 5694\n",
       "shape                    719\n",
       "duration (seconds)         0\n",
       "duration (hours/min)       0\n",
       "comments                  14\n",
       "date posted                0\n",
       "latitude                   0\n",
       "longitude                  0\n",
       "report_link                0\n",
       "dtype: int64"
      ]
     },
     "execution_count": 10,
     "metadata": {},
     "output_type": "execute_result"
    }
   ],
   "source": [
    "df.isna().sum()"
   ]
  },
  {
   "cell_type": "code",
   "execution_count": 11,
   "id": "3d15d2c8",
   "metadata": {},
   "outputs": [
    {
     "data": {
      "text/plain": [
       "array(['gb', 'us', nan, 'ca', 'au', 'de'], dtype=object)"
      ]
     },
     "execution_count": 11,
     "metadata": {},
     "output_type": "execute_result"
    }
   ],
   "source": [
    "df.country.unique()"
   ]
  },
  {
   "cell_type": "markdown",
   "id": "ac0e3625",
   "metadata": {},
   "source": [
    "Utilizaremos el formato Alpha 3 para los codigos de identificación de los países, empezando por los que ya tenemos."
   ]
  },
  {
   "cell_type": "code",
   "execution_count": 12,
   "id": "5d31fcf1",
   "metadata": {},
   "outputs": [],
   "source": [
    "codes = {'us':\"USA\", 'gb':\"GBR\", 'ca':\"CAN\", 'au':\"AUS\", 'de':\"DEU\"}\n",
    "df.country = df.country.apply(lambda c: codes.get(c,c))"
   ]
  },
  {
   "cell_type": "markdown",
   "id": "3edc900b",
   "metadata": {},
   "source": [
    "Utilizaremos los datos geograficos del fichero `../data/countries.geojson`, que contiene las coordinadas de las fronteras de cada país para encontrar el país correspondiente. También crearemos un dicionário de los códigos y los nombres de los países para uso futuro."
   ]
  },
  {
   "cell_type": "code",
   "execution_count": 13,
   "id": "3b5d0e94",
   "metadata": {},
   "outputs": [],
   "source": [
    "with open('../data/countries.geojson') as f:\n",
    "    countries_json = json.load(f)\n",
    "\n",
    "countries = {}\n",
    "code_name = {}\n",
    "for feature in countries_json['features']:\n",
    "    countries[feature[\"properties\"][\"ISO_A3\"]] = shape(feature['geometry'])\n",
    "    code_name[feature[\"properties\"][\"ISO_A3\"]] = feature[\"properties\"][\"ADMIN\"]\n",
    "name_code = {v:k for k,v in code_name.items()}\n",
    "\n",
    "with open('../data/code_name.json', 'w+') as outfile:\n",
    "    json.dump(code_name, outfile)\n",
    "    \n",
    "with open('../data/name_code.json', 'w+') as outfile:\n",
    "    json.dump(name_code, outfile)"
   ]
  },
  {
   "cell_type": "code",
   "execution_count": 14,
   "id": "9a50f31c",
   "metadata": {},
   "outputs": [],
   "source": [
    "def get_country(row,countries=countries):\n",
    "    pt = Point(row[\"longitude\"],row[\"latitude\"])\n",
    "    for code, geometry in countries.items():\n",
    "        if geometry.contains(pt):\n",
    "            return code\n",
    "    return np.nan"
   ]
  },
  {
   "cell_type": "markdown",
   "id": "37721a03",
   "metadata": {},
   "source": [
    "Como el dataframe es bastante grande y la función `get_country` contiene una iteración que se puede hacer larga, utilizaremos del proceso de paralelización para aprovechar los diferentes nucleos del ordenador y hacerlo más rápido."
   ]
  },
  {
   "cell_type": "code",
   "execution_count": 15,
   "id": "132919c2",
   "metadata": {},
   "outputs": [],
   "source": [
    "def parallelize_dataframe(df, func, n_cores=8):\n",
    "    df_split = np.array_split(df, n_cores)\n",
    "    pool = Pool(n_cores)\n",
    "    df = pd.concat(pool.map(func, df_split))\n",
    "    pool.close()\n",
    "    pool.join()\n",
    "    return df\n",
    "def get_all_countries(df):\n",
    "    df.country = df.apply(get_country,axis=1)\n",
    "    return df"
   ]
  },
  {
   "cell_type": "markdown",
   "id": "1e3eb20d",
   "metadata": {},
   "source": [
    "Buscaremos valores de país solo para aquellas filas que ya no contengan un codigo de 3 letras en la celda correspondiente."
   ]
  },
  {
   "cell_type": "code",
   "execution_count": 16,
   "id": "3c9dcf66",
   "metadata": {},
   "outputs": [],
   "source": [
    "missing_countries = df[~df.country.str.fullmatch(\"[A-Z]{3}\",na=False)]"
   ]
  },
  {
   "cell_type": "code",
   "execution_count": 17,
   "id": "66eb35c8",
   "metadata": {},
   "outputs": [
    {
     "data": {
      "text/plain": [
       "(5694, 12)"
      ]
     },
     "execution_count": 17,
     "metadata": {},
     "output_type": "execute_result"
    }
   ],
   "source": [
    "missing_countries.shape"
   ]
  },
  {
   "cell_type": "code",
   "execution_count": 18,
   "id": "daedb3e5",
   "metadata": {},
   "outputs": [],
   "source": [
    "df_co = parallelize_dataframe(missing_countries, get_all_countries)"
   ]
  },
  {
   "cell_type": "markdown",
   "id": "509a9857",
   "metadata": {},
   "source": [
    "Sustituímos los nuevos valores encontrados y removemos los que permaneceran nulos, i.e.: aquellos que no hemos conseguido encontrar el país correspondiente. Esos podrían ser datos con las coordinadas mal registradas o que ocurrieron sobre areas del oceano."
   ]
  },
  {
   "cell_type": "code",
   "execution_count": 19,
   "id": "1dcc5370",
   "metadata": {},
   "outputs": [],
   "source": [
    "df[\"country\"][df_co.index] = df_co.country"
   ]
  },
  {
   "cell_type": "code",
   "execution_count": 20,
   "id": "7012b2e3",
   "metadata": {},
   "outputs": [],
   "source": [
    "df = df[~df.country.isna()]"
   ]
  },
  {
   "cell_type": "markdown",
   "id": "57ec9d8f",
   "metadata": {},
   "source": [
    "Aprovecharemos ahora de una misma función y el proceso de paralelización para hacer arreglos a los datos:\n",
    "- Convertir a mayúsculas los nombres de los estados si el país es \"USA\" o por \"--\" si está en otro país.\n",
    "- Removeremos información adicional del nombre de la ciudad, todo lo que esté contido entre paréntesis y también usaremos la primera letra en mayúscula.\n",
    "- Convertiremos caracteres en codificación HTML a unicode.\n",
    "- Haremos que la columna `shape` también esté con letras mayúsculas"
   ]
  },
  {
   "cell_type": "code",
   "execution_count": 21,
   "id": "507a7ec2",
   "metadata": {},
   "outputs": [],
   "source": [
    "def fix_data(df):\n",
    "    df.state = df.apply(lambda row: str(row[\"state\"]).upper() if row[\"country\"]==\"USA\" else \"--\",\n",
    "                           axis=1)\n",
    "    df.city = df.city.str.replace(r\"\\(.*\\)\",\"\").str.strip().str.title().apply(lambda x: html.unescape(x))\n",
    "    df.comments = df[~df.comments.isna()].comments.apply(lambda x: html.unescape(x))\n",
    "    df[\"shape\"] = df[\"shape\"].str.title()\n",
    "    df['datetime'] = df['datetime'].str.replace('24:00', '0:00')\n",
    "    return df"
   ]
  },
  {
   "cell_type": "code",
   "execution_count": 22,
   "id": "36981c6c",
   "metadata": {},
   "outputs": [],
   "source": [
    "df = parallelize_dataframe(df, fix_data)"
   ]
  },
  {
   "cell_type": "markdown",
   "id": "124ccdd1",
   "metadata": {},
   "source": [
    "Sustituimos valores que permanecen nulos por etiquetas de desconocido y exportamos el csv limpio."
   ]
  },
  {
   "cell_type": "code",
   "execution_count": 23,
   "id": "6a26e2de",
   "metadata": {},
   "outputs": [],
   "source": [
    "df[\"shape\"][df[\"shape\"].isna()] = \"Unknown\"\n",
    "df[\"shape\"][df[\"shape\"] == \"Changed\"] = \"Changing\"\n",
    "df[\"comments\"][df[\"comments\"].isna()] = \"No Comment\""
   ]
  },
  {
   "cell_type": "code",
   "execution_count": 24,
   "id": "ab19260a",
   "metadata": {},
   "outputs": [
    {
     "data": {
      "text/plain": [
       "datetime                0\n",
       "city                    0\n",
       "state                   0\n",
       "country                 0\n",
       "shape                   0\n",
       "duration (seconds)      0\n",
       "duration (hours/min)    0\n",
       "comments                0\n",
       "date posted             0\n",
       "latitude                0\n",
       "longitude               0\n",
       "report_link             0\n",
       "dtype: int64"
      ]
     },
     "execution_count": 24,
     "metadata": {},
     "output_type": "execute_result"
    }
   ],
   "source": [
    "df.isna().sum()"
   ]
  },
  {
   "cell_type": "markdown",
   "id": "2285949d",
   "metadata": {},
   "source": [
    "Separating year, month, hour and weekday from datetime."
   ]
  },
  {
   "cell_type": "code",
   "execution_count": 25,
   "id": "3a9ae471",
   "metadata": {},
   "outputs": [],
   "source": [
    "datetime = pd.DatetimeIndex(df.datetime)\n",
    "df[\"year\"] = datetime.year\n",
    "df[\"month\"] = datetime.month\n",
    "df[\"hour\"] = datetime.hour\n",
    "df[\"weekday\"] = datetime.weekday"
   ]
  },
  {
   "cell_type": "code",
   "execution_count": 26,
   "id": "c39ffae0",
   "metadata": {},
   "outputs": [],
   "source": [
    "df.to_csv(\"../data/clean.csv\", index=False)"
   ]
  },
  {
   "cell_type": "code",
   "execution_count": 27,
   "id": "f58f4865",
   "metadata": {},
   "outputs": [
    {
     "data": {
      "text/html": [
       "<div>\n",
       "<style scoped>\n",
       "    .dataframe tbody tr th:only-of-type {\n",
       "        vertical-align: middle;\n",
       "    }\n",
       "\n",
       "    .dataframe tbody tr th {\n",
       "        vertical-align: top;\n",
       "    }\n",
       "\n",
       "    .dataframe thead th {\n",
       "        text-align: right;\n",
       "    }\n",
       "</style>\n",
       "<table border=\"1\" class=\"dataframe\">\n",
       "  <thead>\n",
       "    <tr style=\"text-align: right;\">\n",
       "      <th></th>\n",
       "      <th>datetime</th>\n",
       "      <th>city</th>\n",
       "      <th>state</th>\n",
       "      <th>country</th>\n",
       "      <th>shape</th>\n",
       "      <th>duration (seconds)</th>\n",
       "      <th>duration (hours/min)</th>\n",
       "      <th>comments</th>\n",
       "      <th>date posted</th>\n",
       "      <th>latitude</th>\n",
       "      <th>longitude</th>\n",
       "      <th>report_link</th>\n",
       "      <th>year</th>\n",
       "      <th>month</th>\n",
       "      <th>hour</th>\n",
       "      <th>weekday</th>\n",
       "    </tr>\n",
       "  </thead>\n",
       "  <tbody>\n",
       "    <tr>\n",
       "      <th>0</th>\n",
       "      <td>10/10/1955 17:00</td>\n",
       "      <td>Chester</td>\n",
       "      <td>--</td>\n",
       "      <td>GBR</td>\n",
       "      <td>Circle</td>\n",
       "      <td>20.0</td>\n",
       "      <td>20 seconds</td>\n",
       "      <td>Green/Orange circular disc over Chester, Engla...</td>\n",
       "      <td>1/21/2008</td>\n",
       "      <td>53.200000</td>\n",
       "      <td>-2.916667</td>\n",
       "      <td>http://www.nuforc.org/webreports/060/S60217.html</td>\n",
       "      <td>1955</td>\n",
       "      <td>10</td>\n",
       "      <td>17</td>\n",
       "      <td>0</td>\n",
       "    </tr>\n",
       "    <tr>\n",
       "      <th>1</th>\n",
       "      <td>10/10/1961 19:00</td>\n",
       "      <td>Bristol</td>\n",
       "      <td>TN</td>\n",
       "      <td>USA</td>\n",
       "      <td>Sphere</td>\n",
       "      <td>300.0</td>\n",
       "      <td>5 minutes</td>\n",
       "      <td>My father is now 89 my brother 52 the girl wit...</td>\n",
       "      <td>4/27/2007</td>\n",
       "      <td>36.595000</td>\n",
       "      <td>-82.188889</td>\n",
       "      <td>http://www.nuforc.org/webreports/055/S55782.html</td>\n",
       "      <td>1961</td>\n",
       "      <td>10</td>\n",
       "      <td>19</td>\n",
       "      <td>1</td>\n",
       "    </tr>\n",
       "    <tr>\n",
       "      <th>2</th>\n",
       "      <td>10/10/1966 20:00</td>\n",
       "      <td>Pell City</td>\n",
       "      <td>AL</td>\n",
       "      <td>USA</td>\n",
       "      <td>Disk</td>\n",
       "      <td>180.0</td>\n",
       "      <td>3  minutes</td>\n",
       "      <td>Strobe Lighted disk shape object observed clos...</td>\n",
       "      <td>3/19/2009</td>\n",
       "      <td>33.586111</td>\n",
       "      <td>-86.286111</td>\n",
       "      <td>http://www.nuforc.org/webreports/068/S68593.html</td>\n",
       "      <td>1966</td>\n",
       "      <td>10</td>\n",
       "      <td>20</td>\n",
       "      <td>0</td>\n",
       "    </tr>\n",
       "    <tr>\n",
       "      <th>3</th>\n",
       "      <td>10/10/1968 19:00</td>\n",
       "      <td>Brevard</td>\n",
       "      <td>NC</td>\n",
       "      <td>USA</td>\n",
       "      <td>Fireball</td>\n",
       "      <td>180.0</td>\n",
       "      <td>3 minutes</td>\n",
       "      <td>silent red/orange mass of energy floated by th...</td>\n",
       "      <td>6/12/2008</td>\n",
       "      <td>35.233333</td>\n",
       "      <td>-82.734444</td>\n",
       "      <td>http://www.nuforc.org/webreports/062/S62666.html</td>\n",
       "      <td>1968</td>\n",
       "      <td>10</td>\n",
       "      <td>19</td>\n",
       "      <td>3</td>\n",
       "    </tr>\n",
       "    <tr>\n",
       "      <th>4</th>\n",
       "      <td>10/10/1970 19:00</td>\n",
       "      <td>Manchester</td>\n",
       "      <td>KY</td>\n",
       "      <td>USA</td>\n",
       "      <td>Unknown</td>\n",
       "      <td>180.0</td>\n",
       "      <td>3 minutes</td>\n",
       "      <td>Slow moving, silent craft accelerated at an un...</td>\n",
       "      <td>2/14/2008</td>\n",
       "      <td>37.153611</td>\n",
       "      <td>-83.761944</td>\n",
       "      <td>http://www.nuforc.org/webreports/061/S61389.html</td>\n",
       "      <td>1970</td>\n",
       "      <td>10</td>\n",
       "      <td>19</td>\n",
       "      <td>5</td>\n",
       "    </tr>\n",
       "  </tbody>\n",
       "</table>\n",
       "</div>"
      ],
      "text/plain": [
       "           datetime        city state country     shape  duration (seconds)  \\\n",
       "0  10/10/1955 17:00     Chester    --     GBR    Circle                20.0   \n",
       "1  10/10/1961 19:00     Bristol    TN     USA    Sphere               300.0   \n",
       "2  10/10/1966 20:00   Pell City    AL     USA      Disk               180.0   \n",
       "3  10/10/1968 19:00     Brevard    NC     USA  Fireball               180.0   \n",
       "4  10/10/1970 19:00  Manchester    KY     USA   Unknown               180.0   \n",
       "\n",
       "  duration (hours/min)                                           comments  \\\n",
       "0           20 seconds  Green/Orange circular disc over Chester, Engla...   \n",
       "1            5 minutes  My father is now 89 my brother 52 the girl wit...   \n",
       "2           3  minutes  Strobe Lighted disk shape object observed clos...   \n",
       "3            3 minutes  silent red/orange mass of energy floated by th...   \n",
       "4            3 minutes  Slow moving, silent craft accelerated at an un...   \n",
       "\n",
       "  date posted   latitude  longitude  \\\n",
       "0   1/21/2008  53.200000  -2.916667   \n",
       "1   4/27/2007  36.595000 -82.188889   \n",
       "2   3/19/2009  33.586111 -86.286111   \n",
       "3   6/12/2008  35.233333 -82.734444   \n",
       "4   2/14/2008  37.153611 -83.761944   \n",
       "\n",
       "                                        report_link  year  month  hour  \\\n",
       "0  http://www.nuforc.org/webreports/060/S60217.html  1955     10    17   \n",
       "1  http://www.nuforc.org/webreports/055/S55782.html  1961     10    19   \n",
       "2  http://www.nuforc.org/webreports/068/S68593.html  1966     10    20   \n",
       "3  http://www.nuforc.org/webreports/062/S62666.html  1968     10    19   \n",
       "4  http://www.nuforc.org/webreports/061/S61389.html  1970     10    19   \n",
       "\n",
       "   weekday  \n",
       "0        0  \n",
       "1        1  \n",
       "2        0  \n",
       "3        3  \n",
       "4        5  "
      ]
     },
     "execution_count": 27,
     "metadata": {},
     "output_type": "execute_result"
    }
   ],
   "source": [
    "df.head()"
   ]
  }
 ],
 "metadata": {
  "kernelspec": {
   "display_name": "Python 3",
   "language": "python",
   "name": "python3"
  },
  "language_info": {
   "codemirror_mode": {
    "name": "ipython",
    "version": 3
   },
   "file_extension": ".py",
   "mimetype": "text/x-python",
   "name": "python",
   "nbconvert_exporter": "python",
   "pygments_lexer": "ipython3",
   "version": "3.7.10"
  },
  "toc": {
   "base_numbering": 1,
   "nav_menu": {},
   "number_sections": true,
   "sideBar": true,
   "skip_h1_title": false,
   "title_cell": "Table of Contents",
   "title_sidebar": "Contents",
   "toc_cell": false,
   "toc_position": {},
   "toc_section_display": true,
   "toc_window_display": false
  }
 },
 "nbformat": 4,
 "nbformat_minor": 5
}
